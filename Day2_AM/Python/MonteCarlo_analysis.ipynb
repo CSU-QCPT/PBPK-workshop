{
 "cells": [
  {
   "cell_type": "markdown",
   "metadata": {},
   "source": [
    "# Monte Carlo Analysis in Python\n",
    "\n",
    "Demonstration of using pandas to analyze Monte Carlo output from MCSim\n",
    "\n",
    "This notebook covers the following:\n",
    "\n",
    "* pandas dataframes\n",
    "* quantiles"
   ]
  },
  {
   "cell_type": "code",
   "execution_count": 1,
   "metadata": {
    "collapsed": true
   },
   "outputs": [],
   "source": [
    "# import modules\n",
    "import matplotlib.pyplot as plt\n",
    "import numpy as np\n",
    "import pandas as pd\n",
    "%matplotlib inline"
   ]
  },
  {
   "cell_type": "code",
   "execution_count": 27,
   "metadata": {
    "collapsed": false
   },
   "outputs": [
    {
     "name": "stdout",
     "output_type": "stream",
     "text": [
      "(10000, 486)\n"
     ]
    }
   ],
   "source": [
    "fpath = '/home/qcpt/PBPK-workshop/Day2_AM/Model/four_cmpt_MC.out'\n",
    "df = pd.read_csv(fpath, sep='\\t')\n",
    "print(df.shape)"
   ]
  },
  {
   "cell_type": "code",
   "execution_count": 33,
   "metadata": {
    "collapsed": false
   },
   "outputs": [
    {
     "name": "stdout",
     "output_type": "stream",
     "text": [
      "(10000, 241)\n"
     ]
    }
   ],
   "source": [
    "tfinal = 24\n",
    "tstep = 0.1\n",
    "ind_initial = 1\n",
    "ind_final = int(tfinal/tstep + 1)\n",
    "blood_df = df.ix[:, 'CBL_mgL_1.{0}'.format(ind_initial):'CBL_mgL_1.{0}'.format(ind_final)]\n",
    "print(blood_df.shape)"
   ]
  },
  {
   "cell_type": "markdown",
   "metadata": {},
   "source": [
    "## Calculate prediction intervals"
   ]
  },
  {
   "cell_type": "code",
   "execution_count": 34,
   "metadata": {
    "collapsed": true
   },
   "outputs": [],
   "source": [
    "p_interval= blood_df.quantile(q=[0.025, 0.5, 0.975], axis=0)"
   ]
  },
  {
   "cell_type": "markdown",
   "metadata": {},
   "source": [
    "## Plot prediction intervals"
   ]
  },
  {
   "cell_type": "code",
   "execution_count": 35,
   "metadata": {
    "collapsed": false
   },
   "outputs": [
    {
     "data": {
      "text/plain": [
       "[<matplotlib.lines.Line2D at 0x7fb1c6644978>]"
      ]
     },
     "execution_count": 35,
     "metadata": {},
     "output_type": "execute_result"
    },
    {
     "data": {
      "image/png": "[encoded data removed]",
      "text/plain": [
       "<matplotlib.figure.Figure at 0x7fb1c6619860>"
      ]
     },
     "metadata": {},
     "output_type": "display_data"
    }
   ],
   "source": [
    "time = np.arange(0, tfinal+tstep, tstep)\n",
    "plt.plot(time, p_interval.ix[0.025, :], 'b--')\n",
    "plt.plot(time, p_interval.ix[0.500, :], 'k')\n",
    "plt.plot(time, p_interval.ix[0.975, :], 'g--')"
   ]
  },
  {
   "cell_type": "markdown",
   "metadata": {},
   "source": [
    "## Plot multiple compartments"
   ]
  },
  {
   "cell_type": "code",
   "execution_count": 32,
   "metadata": {
    "collapsed": false
   },
   "outputs": [
    {
     "ename": "KeyError",
     "evalue": "'CH_mgL_1.1'",
     "output_type": "error",
     "traceback": [
      "\u001b[1;31m---------------------------------------------------------------------------\u001b[0m",
      "\u001b[1;31mValueError\u001b[0m                                Traceback (most recent call last)",
      "\u001b[1;32m/home/qcpt/local/python/anaconda/lib/python3.5/site-packages/pandas/indexes/base.py\u001b[0m in \u001b[0;36mget_slice_bound\u001b[1;34m(self, label, side, kind)\u001b[0m\n\u001b[0;32m   2909\u001b[0m             \u001b[1;32mtry\u001b[0m\u001b[1;33m:\u001b[0m\u001b[1;33m\u001b[0m\u001b[0m\n\u001b[1;32m-> 2910\u001b[1;33m                 \u001b[1;32mreturn\u001b[0m \u001b[0mself\u001b[0m\u001b[1;33m.\u001b[0m\u001b[0m_searchsorted_monotonic\u001b[0m\u001b[1;33m(\u001b[0m\u001b[0mlabel\u001b[0m\u001b[1;33m,\u001b[0m \u001b[0mside\u001b[0m\u001b[1;33m)\u001b[0m\u001b[1;33m\u001b[0m\u001b[0m\n\u001b[0m\u001b[0;32m   2911\u001b[0m             \u001b[1;32mexcept\u001b[0m \u001b[0mValueError\u001b[0m\u001b[1;33m:\u001b[0m\u001b[1;33m\u001b[0m\u001b[0m\n",
      "\u001b[1;32m/home/qcpt/local/python/anaconda/lib/python3.5/site-packages/pandas/indexes/base.py\u001b[0m in \u001b[0;36m_searchsorted_monotonic\u001b[1;34m(self, label, side)\u001b[0m\n\u001b[0;32m   2875\u001b[0m \u001b[1;33m\u001b[0m\u001b[0m\n\u001b[1;32m-> 2876\u001b[1;33m         \u001b[1;32mraise\u001b[0m \u001b[0mValueError\u001b[0m\u001b[1;33m(\u001b[0m\u001b[1;34m'index must be monotonic increasing or decreasing'\u001b[0m\u001b[1;33m)\u001b[0m\u001b[1;33m\u001b[0m\u001b[0m\n\u001b[0m\u001b[0;32m   2877\u001b[0m \u001b[1;33m\u001b[0m\u001b[0m\n",
      "\u001b[1;31mValueError\u001b[0m: index must be monotonic increasing or decreasing",
      "\nDuring handling of the above exception, another exception occurred:\n",
      "\u001b[1;31mKeyError\u001b[0m                                  Traceback (most recent call last)",
      "\u001b[1;32m<ipython-input-32-2cd2dacf9da8>\u001b[0m in \u001b[0;36m<module>\u001b[1;34m()\u001b[0m\n\u001b[0;32m      2\u001b[0m \u001b[0mfig\u001b[0m\u001b[1;33m,\u001b[0m \u001b[0max\u001b[0m \u001b[1;33m=\u001b[0m \u001b[0mplt\u001b[0m\u001b[1;33m.\u001b[0m\u001b[0msubplots\u001b[0m\u001b[1;33m(\u001b[0m\u001b[1;36m1\u001b[0m\u001b[1;33m,\u001b[0m\u001b[1;36m2\u001b[0m\u001b[1;33m)\u001b[0m\u001b[1;33m\u001b[0m\u001b[0m\n\u001b[0;32m      3\u001b[0m \u001b[1;32mfor\u001b[0m \u001b[0mi\u001b[0m\u001b[1;33m,\u001b[0m\u001b[0mc\u001b[0m \u001b[1;32min\u001b[0m \u001b[0menumerate\u001b[0m\u001b[1;33m(\u001b[0m\u001b[0mconcs\u001b[0m\u001b[1;33m)\u001b[0m\u001b[1;33m:\u001b[0m\u001b[1;33m\u001b[0m\u001b[0m\n\u001b[1;32m----> 4\u001b[1;33m     \u001b[0mconc_df\u001b[0m \u001b[1;33m=\u001b[0m \u001b[0mdf\u001b[0m\u001b[1;33m.\u001b[0m\u001b[0mix\u001b[0m\u001b[1;33m[\u001b[0m\u001b[1;33m:\u001b[0m\u001b[1;33m,\u001b[0m \u001b[1;34m'{0}_1.{1}'\u001b[0m\u001b[1;33m.\u001b[0m\u001b[0mformat\u001b[0m\u001b[1;33m(\u001b[0m\u001b[0mc\u001b[0m\u001b[1;33m,\u001b[0m \u001b[0mind_initial\u001b[0m\u001b[1;33m)\u001b[0m \u001b[1;33m:\u001b[0m \u001b[1;34m'{0}_1.{1}'\u001b[0m\u001b[1;33m.\u001b[0m\u001b[0mformat\u001b[0m\u001b[1;33m(\u001b[0m\u001b[0mc\u001b[0m\u001b[1;33m,\u001b[0m \u001b[0mind_final\u001b[0m\u001b[1;33m)\u001b[0m\u001b[1;33m]\u001b[0m\u001b[1;33m\u001b[0m\u001b[0m\n\u001b[0m\u001b[0;32m      5\u001b[0m     \u001b[0mp_df\u001b[0m \u001b[1;33m=\u001b[0m \u001b[0mconc_df\u001b[0m\u001b[1;33m.\u001b[0m\u001b[0mquantile\u001b[0m\u001b[1;33m(\u001b[0m\u001b[1;33m[\u001b[0m\u001b[1;36m0.025\u001b[0m\u001b[1;33m,\u001b[0m \u001b[1;36m0.5\u001b[0m\u001b[1;33m,\u001b[0m \u001b[1;36m0.975\u001b[0m\u001b[1;33m]\u001b[0m\u001b[1;33m,\u001b[0m \u001b[0maxis\u001b[0m\u001b[1;33m=\u001b[0m\u001b[1;36m0\u001b[0m\u001b[1;33m)\u001b[0m\u001b[1;33m\u001b[0m\u001b[0m\n\u001b[0;32m      6\u001b[0m     \u001b[0max\u001b[0m\u001b[1;33m[\u001b[0m\u001b[0mi\u001b[0m\u001b[1;33m]\u001b[0m\u001b[1;33m.\u001b[0m\u001b[0mplot\u001b[0m\u001b[1;33m(\u001b[0m\u001b[0mtime\u001b[0m\u001b[1;33m,\u001b[0m \u001b[0mp_df\u001b[0m\u001b[1;33m.\u001b[0m\u001b[0mix\u001b[0m\u001b[1;33m[\u001b[0m\u001b[1;36m0.025\u001b[0m\u001b[1;33m,\u001b[0m \u001b[1;33m:\u001b[0m\u001b[1;33m]\u001b[0m\u001b[1;33m,\u001b[0m \u001b[1;34m'k--'\u001b[0m\u001b[1;33m)\u001b[0m\u001b[1;33m\u001b[0m\u001b[0m\n",
      "\u001b[1;32m/home/qcpt/local/python/anaconda/lib/python3.5/site-packages/pandas/core/indexing.py\u001b[0m in \u001b[0;36m__getitem__\u001b[1;34m(self, key)\u001b[0m\n\u001b[0;32m     73\u001b[0m                 \u001b[1;32mpass\u001b[0m\u001b[1;33m\u001b[0m\u001b[0m\n\u001b[0;32m     74\u001b[0m \u001b[1;33m\u001b[0m\u001b[0m\n\u001b[1;32m---> 75\u001b[1;33m             \u001b[1;32mreturn\u001b[0m \u001b[0mself\u001b[0m\u001b[1;33m.\u001b[0m\u001b[0m_getitem_tuple\u001b[0m\u001b[1;33m(\u001b[0m\u001b[0mkey\u001b[0m\u001b[1;33m)\u001b[0m\u001b[1;33m\u001b[0m\u001b[0m\n\u001b[0m\u001b[0;32m     76\u001b[0m         \u001b[1;32melse\u001b[0m\u001b[1;33m:\u001b[0m\u001b[1;33m\u001b[0m\u001b[0m\n\u001b[0;32m     77\u001b[0m             \u001b[0mkey\u001b[0m \u001b[1;33m=\u001b[0m \u001b[0mcom\u001b[0m\u001b[1;33m.\u001b[0m\u001b[0m_apply_if_callable\u001b[0m\u001b[1;33m(\u001b[0m\u001b[0mkey\u001b[0m\u001b[1;33m,\u001b[0m \u001b[0mself\u001b[0m\u001b[1;33m.\u001b[0m\u001b[0mobj\u001b[0m\u001b[1;33m)\u001b[0m\u001b[1;33m\u001b[0m\u001b[0m\n",
      "\u001b[1;32m/home/qcpt/local/python/anaconda/lib/python3.5/site-packages/pandas/core/indexing.py\u001b[0m in \u001b[0;36m_getitem_tuple\u001b[1;34m(self, tup)\u001b[0m\n\u001b[0;32m    802\u001b[0m                 \u001b[1;32mcontinue\u001b[0m\u001b[1;33m\u001b[0m\u001b[0m\n\u001b[0;32m    803\u001b[0m \u001b[1;33m\u001b[0m\u001b[0m\n\u001b[1;32m--> 804\u001b[1;33m             \u001b[0mretval\u001b[0m \u001b[1;33m=\u001b[0m \u001b[0mgetattr\u001b[0m\u001b[1;33m(\u001b[0m\u001b[0mretval\u001b[0m\u001b[1;33m,\u001b[0m \u001b[0mself\u001b[0m\u001b[1;33m.\u001b[0m\u001b[0mname\u001b[0m\u001b[1;33m)\u001b[0m\u001b[1;33m.\u001b[0m\u001b[0m_getitem_axis\u001b[0m\u001b[1;33m(\u001b[0m\u001b[0mkey\u001b[0m\u001b[1;33m,\u001b[0m \u001b[0maxis\u001b[0m\u001b[1;33m=\u001b[0m\u001b[0mi\u001b[0m\u001b[1;33m)\u001b[0m\u001b[1;33m\u001b[0m\u001b[0m\n\u001b[0m\u001b[0;32m    805\u001b[0m \u001b[1;33m\u001b[0m\u001b[0m\n\u001b[0;32m    806\u001b[0m         \u001b[1;32mreturn\u001b[0m \u001b[0mretval\u001b[0m\u001b[1;33m\u001b[0m\u001b[0m\n",
      "\u001b[1;32m/home/qcpt/local/python/anaconda/lib/python3.5/site-packages/pandas/core/indexing.py\u001b[0m in \u001b[0;36m_getitem_axis\u001b[1;34m(self, key, axis)\u001b[0m\n\u001b[0;32m    990\u001b[0m         \u001b[0mlabels\u001b[0m \u001b[1;33m=\u001b[0m \u001b[0mself\u001b[0m\u001b[1;33m.\u001b[0m\u001b[0mobj\u001b[0m\u001b[1;33m.\u001b[0m\u001b[0m_get_axis\u001b[0m\u001b[1;33m(\u001b[0m\u001b[0maxis\u001b[0m\u001b[1;33m)\u001b[0m\u001b[1;33m\u001b[0m\u001b[0m\n\u001b[0;32m    991\u001b[0m         \u001b[1;32mif\u001b[0m \u001b[0misinstance\u001b[0m\u001b[1;33m(\u001b[0m\u001b[0mkey\u001b[0m\u001b[1;33m,\u001b[0m \u001b[0mslice\u001b[0m\u001b[1;33m)\u001b[0m\u001b[1;33m:\u001b[0m\u001b[1;33m\u001b[0m\u001b[0m\n\u001b[1;32m--> 992\u001b[1;33m             \u001b[1;32mreturn\u001b[0m \u001b[0mself\u001b[0m\u001b[1;33m.\u001b[0m\u001b[0m_get_slice_axis\u001b[0m\u001b[1;33m(\u001b[0m\u001b[0mkey\u001b[0m\u001b[1;33m,\u001b[0m \u001b[0maxis\u001b[0m\u001b[1;33m=\u001b[0m\u001b[0maxis\u001b[0m\u001b[1;33m)\u001b[0m\u001b[1;33m\u001b[0m\u001b[0m\n\u001b[0m\u001b[0;32m    993\u001b[0m         elif (is_list_like_indexer(key) and\n\u001b[0;32m    994\u001b[0m               not (isinstance(key, tuple) and\n",
      "\u001b[1;32m/home/qcpt/local/python/anaconda/lib/python3.5/site-packages/pandas/core/indexing.py\u001b[0m in \u001b[0;36m_get_slice_axis\u001b[1;34m(self, slice_obj, axis)\u001b[0m\n\u001b[0;32m   1235\u001b[0m         \u001b[1;32mif\u001b[0m \u001b[1;32mnot\u001b[0m \u001b[0mneed_slice\u001b[0m\u001b[1;33m(\u001b[0m\u001b[0mslice_obj\u001b[0m\u001b[1;33m)\u001b[0m\u001b[1;33m:\u001b[0m\u001b[1;33m\u001b[0m\u001b[0m\n\u001b[0;32m   1236\u001b[0m             \u001b[1;32mreturn\u001b[0m \u001b[0mobj\u001b[0m\u001b[1;33m\u001b[0m\u001b[0m\n\u001b[1;32m-> 1237\u001b[1;33m         \u001b[0mindexer\u001b[0m \u001b[1;33m=\u001b[0m \u001b[0mself\u001b[0m\u001b[1;33m.\u001b[0m\u001b[0m_convert_slice_indexer\u001b[0m\u001b[1;33m(\u001b[0m\u001b[0mslice_obj\u001b[0m\u001b[1;33m,\u001b[0m \u001b[0maxis\u001b[0m\u001b[1;33m)\u001b[0m\u001b[1;33m\u001b[0m\u001b[0m\n\u001b[0m\u001b[0;32m   1238\u001b[0m \u001b[1;33m\u001b[0m\u001b[0m\n\u001b[0;32m   1239\u001b[0m         \u001b[1;32mif\u001b[0m \u001b[0misinstance\u001b[0m\u001b[1;33m(\u001b[0m\u001b[0mindexer\u001b[0m\u001b[1;33m,\u001b[0m \u001b[0mslice\u001b[0m\u001b[1;33m)\u001b[0m\u001b[1;33m:\u001b[0m\u001b[1;33m\u001b[0m\u001b[0m\n",
      "\u001b[1;32m/home/qcpt/local/python/anaconda/lib/python3.5/site-packages/pandas/core/indexing.py\u001b[0m in \u001b[0;36m_convert_slice_indexer\u001b[1;34m(self, key, axis)\u001b[0m\n\u001b[0;32m    190\u001b[0m         \u001b[1;31m# if we are accessing via lowered dim, use the last dim\u001b[0m\u001b[1;33m\u001b[0m\u001b[1;33m\u001b[0m\u001b[0m\n\u001b[0;32m    191\u001b[0m         \u001b[0max\u001b[0m \u001b[1;33m=\u001b[0m \u001b[0mself\u001b[0m\u001b[1;33m.\u001b[0m\u001b[0mobj\u001b[0m\u001b[1;33m.\u001b[0m\u001b[0m_get_axis\u001b[0m\u001b[1;33m(\u001b[0m\u001b[0mmin\u001b[0m\u001b[1;33m(\u001b[0m\u001b[0maxis\u001b[0m\u001b[1;33m,\u001b[0m \u001b[0mself\u001b[0m\u001b[1;33m.\u001b[0m\u001b[0mndim\u001b[0m \u001b[1;33m-\u001b[0m \u001b[1;36m1\u001b[0m\u001b[1;33m)\u001b[0m\u001b[1;33m)\u001b[0m\u001b[1;33m\u001b[0m\u001b[0m\n\u001b[1;32m--> 192\u001b[1;33m         \u001b[1;32mreturn\u001b[0m \u001b[0max\u001b[0m\u001b[1;33m.\u001b[0m\u001b[0m_convert_slice_indexer\u001b[0m\u001b[1;33m(\u001b[0m\u001b[0mkey\u001b[0m\u001b[1;33m,\u001b[0m \u001b[0mkind\u001b[0m\u001b[1;33m=\u001b[0m\u001b[0mself\u001b[0m\u001b[1;33m.\u001b[0m\u001b[0mname\u001b[0m\u001b[1;33m)\u001b[0m\u001b[1;33m\u001b[0m\u001b[0m\n\u001b[0m\u001b[0;32m    193\u001b[0m \u001b[1;33m\u001b[0m\u001b[0m\n\u001b[0;32m    194\u001b[0m     \u001b[1;32mdef\u001b[0m \u001b[0m_has_valid_setitem_indexer\u001b[0m\u001b[1;33m(\u001b[0m\u001b[0mself\u001b[0m\u001b[1;33m,\u001b[0m \u001b[0mindexer\u001b[0m\u001b[1;33m)\u001b[0m\u001b[1;33m:\u001b[0m\u001b[1;33m\u001b[0m\u001b[0m\n",
      "\u001b[1;32m/home/qcpt/local/python/anaconda/lib/python3.5/site-packages/pandas/indexes/base.py\u001b[0m in \u001b[0;36m_convert_slice_indexer\u001b[1;34m(self, key, kind)\u001b[0m\n\u001b[0;32m   1077\u001b[0m         \u001b[1;32melse\u001b[0m\u001b[1;33m:\u001b[0m\u001b[1;33m\u001b[0m\u001b[0m\n\u001b[0;32m   1078\u001b[0m             \u001b[1;32mtry\u001b[0m\u001b[1;33m:\u001b[0m\u001b[1;33m\u001b[0m\u001b[0m\n\u001b[1;32m-> 1079\u001b[1;33m                 \u001b[0mindexer\u001b[0m \u001b[1;33m=\u001b[0m \u001b[0mself\u001b[0m\u001b[1;33m.\u001b[0m\u001b[0mslice_indexer\u001b[0m\u001b[1;33m(\u001b[0m\u001b[0mstart\u001b[0m\u001b[1;33m,\u001b[0m \u001b[0mstop\u001b[0m\u001b[1;33m,\u001b[0m \u001b[0mstep\u001b[0m\u001b[1;33m,\u001b[0m \u001b[0mkind\u001b[0m\u001b[1;33m=\u001b[0m\u001b[0mkind\u001b[0m\u001b[1;33m)\u001b[0m\u001b[1;33m\u001b[0m\u001b[0m\n\u001b[0m\u001b[0;32m   1080\u001b[0m             \u001b[1;32mexcept\u001b[0m \u001b[0mException\u001b[0m\u001b[1;33m:\u001b[0m\u001b[1;33m\u001b[0m\u001b[0m\n\u001b[0;32m   1081\u001b[0m                 \u001b[1;32mif\u001b[0m \u001b[0mis_index_slice\u001b[0m\u001b[1;33m:\u001b[0m\u001b[1;33m\u001b[0m\u001b[0m\n",
      "\u001b[1;32m/home/qcpt/local/python/anaconda/lib/python3.5/site-packages/pandas/indexes/base.py\u001b[0m in \u001b[0;36mslice_indexer\u001b[1;34m(self, start, end, step, kind)\u001b[0m\n\u001b[0;32m   2783\u001b[0m         \"\"\"\n\u001b[0;32m   2784\u001b[0m         start_slice, end_slice = self.slice_locs(start, end, step=step,\n\u001b[1;32m-> 2785\u001b[1;33m                                                  kind=kind)\n\u001b[0m\u001b[0;32m   2786\u001b[0m \u001b[1;33m\u001b[0m\u001b[0m\n\u001b[0;32m   2787\u001b[0m         \u001b[1;31m# return a slice\u001b[0m\u001b[1;33m\u001b[0m\u001b[1;33m\u001b[0m\u001b[0m\n",
      "\u001b[1;32m/home/qcpt/local/python/anaconda/lib/python3.5/site-packages/pandas/indexes/base.py\u001b[0m in \u001b[0;36mslice_locs\u001b[1;34m(self, start, end, step, kind)\u001b[0m\n\u001b[0;32m   2962\u001b[0m         \u001b[0mstart_slice\u001b[0m \u001b[1;33m=\u001b[0m \u001b[1;32mNone\u001b[0m\u001b[1;33m\u001b[0m\u001b[0m\n\u001b[0;32m   2963\u001b[0m         \u001b[1;32mif\u001b[0m \u001b[0mstart\u001b[0m \u001b[1;32mis\u001b[0m \u001b[1;32mnot\u001b[0m \u001b[1;32mNone\u001b[0m\u001b[1;33m:\u001b[0m\u001b[1;33m\u001b[0m\u001b[0m\n\u001b[1;32m-> 2964\u001b[1;33m             \u001b[0mstart_slice\u001b[0m \u001b[1;33m=\u001b[0m \u001b[0mself\u001b[0m\u001b[1;33m.\u001b[0m\u001b[0mget_slice_bound\u001b[0m\u001b[1;33m(\u001b[0m\u001b[0mstart\u001b[0m\u001b[1;33m,\u001b[0m \u001b[1;34m'left'\u001b[0m\u001b[1;33m,\u001b[0m \u001b[0mkind\u001b[0m\u001b[1;33m)\u001b[0m\u001b[1;33m\u001b[0m\u001b[0m\n\u001b[0m\u001b[0;32m   2965\u001b[0m         \u001b[1;32mif\u001b[0m \u001b[0mstart_slice\u001b[0m \u001b[1;32mis\u001b[0m \u001b[1;32mNone\u001b[0m\u001b[1;33m:\u001b[0m\u001b[1;33m\u001b[0m\u001b[0m\n\u001b[0;32m   2966\u001b[0m             \u001b[0mstart_slice\u001b[0m \u001b[1;33m=\u001b[0m \u001b[1;36m0\u001b[0m\u001b[1;33m\u001b[0m\u001b[0m\n",
      "\u001b[1;32m/home/qcpt/local/python/anaconda/lib/python3.5/site-packages/pandas/indexes/base.py\u001b[0m in \u001b[0;36mget_slice_bound\u001b[1;34m(self, label, side, kind)\u001b[0m\n\u001b[0;32m   2911\u001b[0m             \u001b[1;32mexcept\u001b[0m \u001b[0mValueError\u001b[0m\u001b[1;33m:\u001b[0m\u001b[1;33m\u001b[0m\u001b[0m\n\u001b[0;32m   2912\u001b[0m                 \u001b[1;31m# raise the original KeyError\u001b[0m\u001b[1;33m\u001b[0m\u001b[1;33m\u001b[0m\u001b[0m\n\u001b[1;32m-> 2913\u001b[1;33m                 \u001b[1;32mraise\u001b[0m \u001b[0merr\u001b[0m\u001b[1;33m\u001b[0m\u001b[0m\n\u001b[0m\u001b[0;32m   2914\u001b[0m \u001b[1;33m\u001b[0m\u001b[0m\n\u001b[0;32m   2915\u001b[0m         \u001b[1;32mif\u001b[0m \u001b[0misinstance\u001b[0m\u001b[1;33m(\u001b[0m\u001b[0mslc\u001b[0m\u001b[1;33m,\u001b[0m \u001b[0mnp\u001b[0m\u001b[1;33m.\u001b[0m\u001b[0mndarray\u001b[0m\u001b[1;33m)\u001b[0m\u001b[1;33m:\u001b[0m\u001b[1;33m\u001b[0m\u001b[0m\n",
      "\u001b[1;32m/home/qcpt/local/python/anaconda/lib/python3.5/site-packages/pandas/indexes/base.py\u001b[0m in \u001b[0;36mget_slice_bound\u001b[1;34m(self, label, side, kind)\u001b[0m\n\u001b[0;32m   2905\u001b[0m         \u001b[1;31m# we need to look up the label\u001b[0m\u001b[1;33m\u001b[0m\u001b[1;33m\u001b[0m\u001b[0m\n\u001b[0;32m   2906\u001b[0m         \u001b[1;32mtry\u001b[0m\u001b[1;33m:\u001b[0m\u001b[1;33m\u001b[0m\u001b[0m\n\u001b[1;32m-> 2907\u001b[1;33m             \u001b[0mslc\u001b[0m \u001b[1;33m=\u001b[0m \u001b[0mself\u001b[0m\u001b[1;33m.\u001b[0m\u001b[0mget_loc\u001b[0m\u001b[1;33m(\u001b[0m\u001b[0mlabel\u001b[0m\u001b[1;33m)\u001b[0m\u001b[1;33m\u001b[0m\u001b[0m\n\u001b[0m\u001b[0;32m   2908\u001b[0m         \u001b[1;32mexcept\u001b[0m \u001b[0mKeyError\u001b[0m \u001b[1;32mas\u001b[0m \u001b[0merr\u001b[0m\u001b[1;33m:\u001b[0m\u001b[1;33m\u001b[0m\u001b[0m\n\u001b[0;32m   2909\u001b[0m             \u001b[1;32mtry\u001b[0m\u001b[1;33m:\u001b[0m\u001b[1;33m\u001b[0m\u001b[0m\n",
      "\u001b[1;32m/home/qcpt/local/python/anaconda/lib/python3.5/site-packages/pandas/indexes/base.py\u001b[0m in \u001b[0;36mget_loc\u001b[1;34m(self, key, method, tolerance)\u001b[0m\n\u001b[0;32m   1945\u001b[0m                 \u001b[1;32mreturn\u001b[0m \u001b[0mself\u001b[0m\u001b[1;33m.\u001b[0m\u001b[0m_engine\u001b[0m\u001b[1;33m.\u001b[0m\u001b[0mget_loc\u001b[0m\u001b[1;33m(\u001b[0m\u001b[0mkey\u001b[0m\u001b[1;33m)\u001b[0m\u001b[1;33m\u001b[0m\u001b[0m\n\u001b[0;32m   1946\u001b[0m             \u001b[1;32mexcept\u001b[0m \u001b[0mKeyError\u001b[0m\u001b[1;33m:\u001b[0m\u001b[1;33m\u001b[0m\u001b[0m\n\u001b[1;32m-> 1947\u001b[1;33m                 \u001b[1;32mreturn\u001b[0m \u001b[0mself\u001b[0m\u001b[1;33m.\u001b[0m\u001b[0m_engine\u001b[0m\u001b[1;33m.\u001b[0m\u001b[0mget_loc\u001b[0m\u001b[1;33m(\u001b[0m\u001b[0mself\u001b[0m\u001b[1;33m.\u001b[0m\u001b[0m_maybe_cast_indexer\u001b[0m\u001b[1;33m(\u001b[0m\u001b[0mkey\u001b[0m\u001b[1;33m)\u001b[0m\u001b[1;33m)\u001b[0m\u001b[1;33m\u001b[0m\u001b[0m\n\u001b[0m\u001b[0;32m   1948\u001b[0m \u001b[1;33m\u001b[0m\u001b[0m\n\u001b[0;32m   1949\u001b[0m         \u001b[0mindexer\u001b[0m \u001b[1;33m=\u001b[0m \u001b[0mself\u001b[0m\u001b[1;33m.\u001b[0m\u001b[0mget_indexer\u001b[0m\u001b[1;33m(\u001b[0m\u001b[1;33m[\u001b[0m\u001b[0mkey\u001b[0m\u001b[1;33m]\u001b[0m\u001b[1;33m,\u001b[0m \u001b[0mmethod\u001b[0m\u001b[1;33m=\u001b[0m\u001b[0mmethod\u001b[0m\u001b[1;33m,\u001b[0m \u001b[0mtolerance\u001b[0m\u001b[1;33m=\u001b[0m\u001b[0mtolerance\u001b[0m\u001b[1;33m)\u001b[0m\u001b[1;33m\u001b[0m\u001b[0m\n",
      "\u001b[1;32mpandas/index.pyx\u001b[0m in \u001b[0;36mpandas.index.IndexEngine.get_loc (pandas/index.c:4154)\u001b[1;34m()\u001b[0m\n",
      "\u001b[1;32mpandas/index.pyx\u001b[0m in \u001b[0;36mpandas.index.IndexEngine.get_loc (pandas/index.c:4018)\u001b[1;34m()\u001b[0m\n",
      "\u001b[1;32mpandas/hashtable.pyx\u001b[0m in \u001b[0;36mpandas.hashtable.PyObjectHashTable.get_item (pandas/hashtable.c:12368)\u001b[1;34m()\u001b[0m\n",
      "\u001b[1;32mpandas/hashtable.pyx\u001b[0m in \u001b[0;36mpandas.hashtable.PyObjectHashTable.get_item (pandas/hashtable.c:12322)\u001b[1;34m()\u001b[0m\n",
      "\u001b[1;31mKeyError\u001b[0m: 'CH_mgL_1.1'"
     ]
    },
    {
     "data": {
      "image/png": "[encoded data removed]",
      "text/plain": [
       "<matplotlib.figure.Figure at 0x7fb1c6847da0>"
      ]
     },
     "metadata": {},
     "output_type": "display_data"
    }
   ],
   "source": [
    "concs = ['CBL_mgL', 'CH_mgL']\n",
    "fig, ax = plt.subplots(1,2)\n",
    "for i,c in enumerate(concs):\n",
    "    conc_df = df.ix[:, '{0}_1.{1}'.format(c, ind_initial) : '{0}_1.{1}'.format(c, ind_final)]\n",
    "    p_df = conc_df.quantile([0.025, 0.5, 0.975], axis=0)\n",
    "    ax[i].plot(time, p_df.ix[0.025, :], 'k--')\n",
    "    ax[i].plot(time, p_df.ix[0.500, :], 'k')\n",
    "    ax[i].plot(time, p_df.ix[0.975, :], 'k--')\n",
    "    \n",
    "    ax[i].set_xlabel('Time [hrs]', fontsize=30)\n",
    "    ax[i].set_ylabel('Concentration: {0}'.format(c))\n",
    "    ax[i].grid()\n",
    "plt.tight_layout()"
   ]
  },
  {
   "cell_type": "code",
   "execution_count": 13,
   "metadata": {
    "collapsed": false
   },
   "outputs": [
    {
     "name": "stdout",
     "output_type": "stream",
     "text": [
      "Index(['Iter', 'QCC', 'VKC', 'VHC', 'CBL_mgL_1.1'], dtype='object')\n"
     ]
    }
   ],
   "source": [
    "print(df.columns[:5])"
   ]
  },
  {
   "cell_type": "code",
   "execution_count": 39,
   "metadata": {
    "collapsed": true
   },
   "outputs": [
    {
     "name": "stdout",
     "output_type": "stream",
     "text": [
      "                  Iter       VKC       CLC        k1  CBL_mgL_1.1  \\\n",
      "Iter          1.000000 -0.017099 -0.003064  0.002841          NaN   \n",
      "VKC          -0.017099  1.000000 -0.019105  0.011916          NaN   \n",
      "CLC          -0.003064 -0.019105  1.000000  0.017800          NaN   \n",
      "k1            0.002841  0.011916  0.017800  1.000000          NaN   \n",
      "CBL_mgL_1.1        NaN       NaN       NaN       NaN          NaN   \n",
      "CBL_mgL_1.2  -0.001201 -0.132551 -0.015829 -0.992076          NaN   \n",
      "CBL_mgL_1.3   0.000659 -0.261494 -0.014426 -0.965675          NaN   \n",
      "CBL_mgL_1.4   0.002592 -0.387346 -0.013988 -0.920592          NaN   \n",
      "CBL_mgL_1.5   0.004408 -0.498321 -0.014767 -0.862684          NaN   \n",
      "CBL_mgL_1.6   0.006025 -0.590327 -0.016799 -0.799093          NaN   \n",
      "CBL_mgL_1.7   0.007409 -0.663585 -0.019995 -0.735819          NaN   \n",
      "CBL_mgL_1.8   0.008571 -0.720378 -0.024235 -0.676918          NaN   \n",
      "CBL_mgL_1.9   0.009538 -0.763676 -0.029395 -0.624582          NaN   \n",
      "CBL_mgL_1.10  0.010341 -0.796352 -0.035374 -0.579622          NaN   \n",
      "CBL_mgL_1.11  0.011012 -0.820841 -0.042085 -0.541979          NaN   \n",
      "CBL_mgL_1.12  0.011576 -0.839069 -0.049463 -0.511135          NaN   \n",
      "CBL_mgL_1.13  0.012057 -0.852502 -0.057455 -0.486371          NaN   \n",
      "CBL_mgL_1.14  0.012470 -0.862226 -0.066019 -0.466921          NaN   \n",
      "CBL_mgL_1.15  0.012830 -0.869042 -0.075117 -0.452054          NaN   \n",
      "CBL_mgL_1.16  0.013144 -0.873537 -0.084718 -0.441101          NaN   \n",
      "CBL_mgL_1.17  0.013422 -0.876143 -0.094792 -0.433472          NaN   \n",
      "CBL_mgL_1.18  0.013669 -0.877179 -0.105308 -0.428654          NaN   \n",
      "CBL_mgL_1.19  0.013890 -0.876881 -0.116239 -0.426206          NaN   \n",
      "CBL_mgL_1.20  0.014088 -0.875426 -0.127556 -0.425746          NaN   \n",
      "CBL_mgL_1.21  0.014265 -0.872950 -0.139232 -0.426950          NaN   \n",
      "CBL_mgL_1.22  0.014424 -0.869556 -0.151238 -0.429540          NaN   \n",
      "CBL_mgL_1.23  0.014567 -0.865323 -0.163546 -0.433280          NaN   \n",
      "CBL_mgL_1.24  0.014694 -0.860316 -0.176128 -0.437966          NaN   \n",
      "CBL_mgL_1.25  0.014807 -0.854584 -0.188956 -0.443426          NaN   \n",
      "CBL_mgL_1.26  0.014907 -0.848169 -0.202002 -0.449510          NaN   \n",
      "...                ...       ...       ...       ...          ...   \n",
      "CK_mgL_1.212 -0.010364  0.469650 -0.724274 -0.422191          NaN   \n",
      "CK_mgL_1.213 -0.010436  0.470431 -0.723592 -0.421647          NaN   \n",
      "CK_mgL_1.214 -0.010507  0.471196 -0.722911 -0.421107          NaN   \n",
      "CK_mgL_1.215 -0.010578  0.471945 -0.722231 -0.420570          NaN   \n",
      "CK_mgL_1.216 -0.010649  0.472680 -0.721553 -0.420038          NaN   \n",
      "CK_mgL_1.217 -0.010719  0.473399 -0.720877 -0.419509          NaN   \n",
      "CK_mgL_1.218 -0.010789  0.474104 -0.720202 -0.418984          NaN   \n",
      "CK_mgL_1.219 -0.010858  0.474794 -0.719528 -0.418462          NaN   \n",
      "CK_mgL_1.220 -0.010927  0.475470 -0.718855 -0.417944          NaN   \n",
      "CK_mgL_1.221 -0.010995  0.476131 -0.718184 -0.417430          NaN   \n",
      "CK_mgL_1.222 -0.011062  0.476779 -0.717514 -0.416919          NaN   \n",
      "CK_mgL_1.223 -0.011130  0.477413 -0.716846 -0.416411          NaN   \n",
      "CK_mgL_1.224 -0.011197  0.478034 -0.716178 -0.415907          NaN   \n",
      "CK_mgL_1.225 -0.011263  0.478642 -0.715513 -0.415406          NaN   \n",
      "CK_mgL_1.226 -0.011329  0.479236 -0.714848 -0.414908          NaN   \n",
      "CK_mgL_1.227 -0.011394  0.479818 -0.714185 -0.414414          NaN   \n",
      "CK_mgL_1.228 -0.011459  0.480387 -0.713523 -0.413922          NaN   \n",
      "CK_mgL_1.229 -0.011524  0.480944 -0.712862 -0.413434          NaN   \n",
      "CK_mgL_1.230 -0.011588  0.481488 -0.712202 -0.412949          NaN   \n",
      "CK_mgL_1.231 -0.011652  0.482021 -0.711544 -0.412467          NaN   \n",
      "CK_mgL_1.232 -0.011715  0.482541 -0.710887 -0.411988          NaN   \n",
      "CK_mgL_1.233 -0.011778  0.483050 -0.710231 -0.411512          NaN   \n",
      "CK_mgL_1.234 -0.011841  0.483547 -0.709576 -0.411039          NaN   \n",
      "CK_mgL_1.235 -0.011903  0.484033 -0.708923 -0.410569          NaN   \n",
      "CK_mgL_1.236 -0.011965  0.484507 -0.708270 -0.410102          NaN   \n",
      "CK_mgL_1.237 -0.012026  0.484971 -0.707619 -0.409637          NaN   \n",
      "CK_mgL_1.238 -0.012087  0.485423 -0.706969 -0.409176          NaN   \n",
      "CK_mgL_1.239 -0.012147  0.485865 -0.706320 -0.408717          NaN   \n",
      "CK_mgL_1.240 -0.012207  0.486296 -0.705673 -0.408260          NaN   \n",
      "CK_mgL_1.241 -0.012267  0.486717 -0.705026 -0.407807          NaN   \n",
      "\n",
      "              CBL_mgL_1.2  CBL_mgL_1.3  CBL_mgL_1.4  CBL_mgL_1.5  CBL_mgL_1.6  \\\n",
      "Iter            -0.001201     0.000659     0.002592     0.004408     0.006025   \n",
      "VKC             -0.132551    -0.261494    -0.387346    -0.498321    -0.590327   \n",
      "CLC             -0.015829    -0.014426    -0.013988    -0.014767    -0.016799   \n",
      "k1              -0.992076    -0.965675    -0.920592    -0.862684    -0.799093   \n",
      "CBL_mgL_1.1           NaN          NaN          NaN          NaN          NaN   \n",
      "CBL_mgL_1.2      1.000000     0.990657     0.962354     0.919362     0.868238   \n",
      "CBL_mgL_1.3      0.990657     1.000000     0.990428     0.964415     0.927760   \n",
      "CBL_mgL_1.4      0.962354     0.990428     1.000000     0.991676     0.970378   \n",
      "CBL_mgL_1.5      0.919362     0.964415     0.991676     1.000000     0.993406   \n",
      "CBL_mgL_1.6      0.868238     0.927760     0.970378     0.993406     1.000000   \n",
      "CBL_mgL_1.7      0.814964     0.886320     0.941722     0.977186     0.995091   \n",
      "CBL_mgL_1.8      0.763866     0.844631     0.910374     0.956044     0.983348   \n",
      "CBL_mgL_1.9      0.717508     0.805619     0.879563     0.933438     0.968382   \n",
      "CBL_mgL_1.10     0.677071     0.770844     0.851204     0.911580     0.952641   \n",
      "CBL_mgL_1.11     0.642819     0.740912     0.826241     0.891708     0.937605   \n",
      "CBL_mgL_1.12     0.614489     0.715845     0.804980     0.874392     0.924069   \n",
      "CBL_mgL_1.13     0.591561     0.695346     0.787358     0.859785     0.912380   \n",
      "CBL_mgL_1.14     0.573419     0.678974     0.773116     0.847806     0.902611   \n",
      "CBL_mgL_1.15     0.559442     0.666238     0.761907     0.838244     0.894679   \n",
      "CBL_mgL_1.16     0.549044     0.656655     0.753358     0.830837     0.888423   \n",
      "CBL_mgL_1.17     0.541697     0.649771     0.747102     0.825305     0.883643   \n",
      "CBL_mgL_1.18     0.536935     0.645179     0.742797     0.821374     0.880131   \n",
      "CBL_mgL_1.19     0.534349     0.642515     0.740135     0.818788     0.877683   \n",
      "CBL_mgL_1.20     0.533587     0.641463     0.738837     0.817316     0.876108   \n",
      "CBL_mgL_1.21     0.534344     0.641745     0.738662     0.816748     0.875231   \n",
      "CBL_mgL_1.22     0.536358     0.643121     0.739395     0.816900     0.874898   \n",
      "CBL_mgL_1.23     0.539405     0.645385     0.740852     0.817612     0.874968   \n",
      "CBL_mgL_1.24     0.543292     0.648358     0.742873     0.818741     0.875321   \n",
      "CBL_mgL_1.25     0.547853     0.651887     0.745318     0.820165     0.875850   \n",
      "CBL_mgL_1.26     0.552948     0.655841     0.748069     0.821779     0.876462   \n",
      "...                   ...          ...          ...          ...          ...   \n",
      "CK_mgL_1.212     0.360313     0.287084     0.208116     0.131639     0.062637   \n",
      "CK_mgL_1.213     0.359705     0.286412     0.207389     0.130868     0.061832   \n",
      "CK_mgL_1.214     0.359102     0.285749     0.206672     0.130107     0.061040   \n",
      "CK_mgL_1.215     0.358505     0.285092     0.205963     0.129358     0.060260   \n",
      "CK_mgL_1.216     0.357914     0.284444     0.205264     0.128619     0.059491   \n",
      "CK_mgL_1.217     0.357328     0.283802     0.204574     0.127890     0.058734   \n",
      "CK_mgL_1.218     0.356747     0.283167     0.203892     0.127172     0.057988   \n",
      "CK_mgL_1.219     0.356172     0.282540     0.203219     0.126464     0.057254   \n",
      "CK_mgL_1.220     0.355601     0.281919     0.202555     0.125765     0.056530   \n",
      "CK_mgL_1.221     0.355036     0.281305     0.201899     0.125077     0.055817   \n",
      "CK_mgL_1.222     0.354476     0.280698     0.201251     0.124398     0.055116   \n",
      "CK_mgL_1.223     0.353921     0.280097     0.200612     0.123728     0.054424   \n",
      "CK_mgL_1.224     0.353371     0.279503     0.199980     0.123068     0.053743   \n",
      "CK_mgL_1.225     0.352826     0.278916     0.199356     0.122417     0.053072   \n",
      "CK_mgL_1.226     0.352285     0.278334     0.198740     0.121775     0.052411   \n",
      "CK_mgL_1.227     0.351749     0.277759     0.198132     0.121141     0.051760   \n",
      "CK_mgL_1.228     0.351218     0.277190     0.197531     0.120517     0.051119   \n",
      "CK_mgL_1.229     0.350691     0.276627     0.196938     0.119901     0.050487   \n",
      "CK_mgL_1.230     0.350169     0.276070     0.196352     0.119294     0.049865   \n",
      "CK_mgL_1.231     0.349651     0.275519     0.195773     0.118695     0.049252   \n",
      "CK_mgL_1.232     0.349138     0.274973     0.195202     0.118104     0.048648   \n",
      "CK_mgL_1.233     0.348629     0.274433     0.194637     0.117521     0.048054   \n",
      "CK_mgL_1.234     0.348124     0.273899     0.194079     0.116947     0.047468   \n",
      "CK_mgL_1.235     0.347623     0.273371     0.193528     0.116380     0.046891   \n",
      "CK_mgL_1.236     0.347126     0.272847     0.192984     0.115821     0.046322   \n",
      "CK_mgL_1.237     0.346634     0.272330     0.192446     0.115270     0.045762   \n",
      "CK_mgL_1.238     0.346145     0.271817     0.191915     0.114726     0.045210   \n",
      "CK_mgL_1.239     0.345661     0.271310     0.191390     0.114190     0.044667   \n",
      "CK_mgL_1.240     0.345180     0.270807     0.190871     0.113660     0.044132   \n",
      "CK_mgL_1.241     0.344703     0.270310     0.190359     0.113139     0.043605   \n",
      "\n",
      "                  ...       CK_mgL_1.232  CK_mgL_1.233  CK_mgL_1.234  \\\n",
      "Iter              ...          -0.011715     -0.011778     -0.011841   \n",
      "VKC               ...           0.482541      0.483050      0.483547   \n",
      "CLC               ...          -0.710887     -0.710231     -0.709576   \n",
      "k1                ...          -0.411988     -0.411512     -0.411039   \n",
      "CBL_mgL_1.1       ...                NaN           NaN           NaN   \n",
      "CBL_mgL_1.2       ...           0.349138      0.348629      0.348124   \n",
      "CBL_mgL_1.3       ...           0.274973      0.274433      0.273899   \n",
      "CBL_mgL_1.4       ...           0.195202      0.194637      0.194079   \n",
      "CBL_mgL_1.5       ...           0.118104      0.117521      0.116947   \n",
      "CBL_mgL_1.6       ...           0.048648      0.048054      0.047468   \n",
      "CBL_mgL_1.7       ...          -0.010866     -0.011470     -0.012063   \n",
      "CBL_mgL_1.8       ...          -0.059952     -0.060562     -0.061161   \n",
      "CBL_mgL_1.9       ...          -0.099216     -0.099832     -0.100438   \n",
      "CBL_mgL_1.10      ...          -0.129775     -0.130398     -0.131011   \n",
      "CBL_mgL_1.11      ...          -0.152881     -0.153513     -0.154135   \n",
      "CBL_mgL_1.12      ...          -0.169718     -0.170360     -0.170992   \n",
      "CBL_mgL_1.13      ...          -0.181318     -0.181972     -0.182615   \n",
      "CBL_mgL_1.14      ...          -0.188546     -0.189213     -0.189869   \n",
      "CBL_mgL_1.15      ...          -0.192110     -0.192792     -0.193463   \n",
      "CBL_mgL_1.16      ...          -0.192588     -0.193286     -0.193972   \n",
      "CBL_mgL_1.17      ...          -0.190447     -0.191162     -0.191866   \n",
      "CBL_mgL_1.18      ...          -0.186071     -0.186804     -0.187525   \n",
      "CBL_mgL_1.19      ...          -0.179771     -0.180523     -0.181263   \n",
      "CBL_mgL_1.20      ...          -0.171807     -0.172579     -0.173339   \n",
      "CBL_mgL_1.21      ...          -0.162396     -0.163188     -0.163968   \n",
      "CBL_mgL_1.22      ...          -0.151719     -0.152531     -0.153332   \n",
      "CBL_mgL_1.23      ...          -0.139929     -0.140763     -0.141584   \n",
      "CBL_mgL_1.24      ...          -0.127159     -0.128014     -0.128856   \n",
      "CBL_mgL_1.25      ...          -0.113523     -0.114399     -0.115262   \n",
      "CBL_mgL_1.26      ...          -0.099118     -0.100015     -0.100900   \n",
      "...               ...                ...           ...           ...   \n",
      "CK_mgL_1.212      ...           0.998780      0.998661      0.998537   \n",
      "CK_mgL_1.213      ...           0.998904      0.998791      0.998673   \n",
      "CK_mgL_1.214      ...           0.999021      0.998914      0.998802   \n",
      "CK_mgL_1.215      ...           0.999131      0.999030      0.998923   \n",
      "CK_mgL_1.216      ...           0.999233      0.999138      0.999038   \n",
      "CK_mgL_1.217      ...           0.999329      0.999240      0.999146   \n",
      "CK_mgL_1.218      ...           0.999418      0.999335      0.999247   \n",
      "CK_mgL_1.219      ...           0.999501      0.999423      0.999341   \n",
      "CK_mgL_1.220      ...           0.999576      0.999505      0.999428   \n",
      "CK_mgL_1.221      ...           0.999646      0.999580      0.999509   \n",
      "CK_mgL_1.222      ...           0.999708      0.999649      0.999584   \n",
      "CK_mgL_1.223      ...           0.999765      0.999711      0.999652   \n",
      "CK_mgL_1.224      ...           0.999815      0.999767      0.999713   \n",
      "CK_mgL_1.225      ...           0.999859      0.999817      0.999769   \n",
      "CK_mgL_1.226      ...           0.999897      0.999860      0.999818   \n",
      "CK_mgL_1.227      ...           0.999929      0.999898      0.999861   \n",
      "CK_mgL_1.228      ...           0.999955      0.999929      0.999898   \n",
      "CK_mgL_1.229      ...           0.999975      0.999955      0.999930   \n",
      "CK_mgL_1.230      ...           0.999989      0.999975      0.999955   \n",
      "CK_mgL_1.231      ...           0.999997      0.999989      0.999975   \n",
      "CK_mgL_1.232      ...           1.000000      0.999997      0.999989   \n",
      "CK_mgL_1.233      ...           0.999997      1.000000      0.999997   \n",
      "CK_mgL_1.234      ...           0.999989      0.999997      1.000000   \n",
      "CK_mgL_1.235      ...           0.999975      0.999989      0.999997   \n",
      "CK_mgL_1.236      ...           0.999956      0.999975      0.999989   \n",
      "CK_mgL_1.237      ...           0.999931      0.999956      0.999976   \n",
      "CK_mgL_1.238      ...           0.999902      0.999932      0.999957   \n",
      "CK_mgL_1.239      ...           0.999867      0.999903      0.999933   \n",
      "CK_mgL_1.240      ...           0.999827      0.999868      0.999903   \n",
      "CK_mgL_1.241      ...           0.999782      0.999828      0.999869   \n",
      "\n",
      "              CK_mgL_1.235  CK_mgL_1.236  CK_mgL_1.237  CK_mgL_1.238  \\\n",
      "Iter             -0.011903     -0.011965     -0.012026     -0.012087   \n",
      "VKC               0.484033      0.484507      0.484971      0.485423   \n",
      "CLC              -0.708923     -0.708270     -0.707619     -0.706969   \n",
      "k1               -0.410569     -0.410102     -0.409637     -0.409176   \n",
      "CBL_mgL_1.1            NaN           NaN           NaN           NaN   \n",
      "CBL_mgL_1.2       0.347623      0.347126      0.346634      0.346145   \n",
      "CBL_mgL_1.3       0.273371      0.272847      0.272330      0.271817   \n",
      "CBL_mgL_1.4       0.193528      0.192984      0.192446      0.191915   \n",
      "CBL_mgL_1.5       0.116380      0.115821      0.115270      0.114726   \n",
      "CBL_mgL_1.6       0.046891      0.046322      0.045762      0.045210   \n",
      "CBL_mgL_1.7      -0.012647     -0.013222     -0.013788     -0.014345   \n",
      "CBL_mgL_1.8      -0.061751     -0.062332     -0.062902     -0.063463   \n",
      "CBL_mgL_1.9      -0.101034     -0.101619     -0.102195     -0.102760   \n",
      "CBL_mgL_1.10     -0.131614     -0.132205     -0.132787     -0.133358   \n",
      "CBL_mgL_1.11     -0.154745     -0.155345     -0.155934     -0.156512   \n",
      "CBL_mgL_1.12     -0.171612     -0.172221     -0.172819     -0.173407   \n",
      "CBL_mgL_1.13     -0.183246     -0.183867     -0.184476     -0.185075   \n",
      "CBL_mgL_1.14     -0.190513     -0.191147     -0.191769     -0.192380   \n",
      "CBL_mgL_1.15     -0.194122     -0.194769     -0.195406     -0.196031   \n",
      "CBL_mgL_1.16     -0.194647     -0.195310     -0.195962     -0.196603   \n",
      "CBL_mgL_1.17     -0.192557     -0.193237     -0.193906     -0.194564   \n",
      "CBL_mgL_1.18     -0.188235     -0.188933     -0.189619     -0.190295   \n",
      "CBL_mgL_1.19     -0.181992     -0.182708     -0.183414     -0.184108   \n",
      "CBL_mgL_1.20     -0.174087     -0.174823     -0.175548     -0.176261   \n",
      "CBL_mgL_1.21     -0.164736     -0.165492     -0.166237     -0.166970   \n",
      "CBL_mgL_1.22     -0.154120     -0.154897     -0.155662     -0.156416   \n",
      "CBL_mgL_1.23     -0.142393     -0.143190     -0.143976     -0.144751   \n",
      "CBL_mgL_1.24     -0.129686     -0.130505     -0.131312     -0.132107   \n",
      "CBL_mgL_1.25     -0.116114     -0.116953     -0.117781     -0.118598   \n",
      "CBL_mgL_1.26     -0.101773     -0.102634     -0.103483     -0.104320   \n",
      "...                    ...           ...           ...           ...   \n",
      "CK_mgL_1.212      0.998408      0.998274      0.998135      0.997991   \n",
      "CK_mgL_1.213      0.998550      0.998422      0.998289      0.998151   \n",
      "CK_mgL_1.214      0.998685      0.998562      0.998435      0.998304   \n",
      "CK_mgL_1.215      0.998812      0.998696      0.998575      0.998449   \n",
      "CK_mgL_1.216      0.998933      0.998822      0.998707      0.998587   \n",
      "CK_mgL_1.217      0.999046      0.998942      0.998833      0.998718   \n",
      "CK_mgL_1.218      0.999153      0.999055      0.998951      0.998843   \n",
      "CK_mgL_1.219      0.999253      0.999160      0.999063      0.998960   \n",
      "CK_mgL_1.220      0.999346      0.999259      0.999167      0.999071   \n",
      "CK_mgL_1.221      0.999433      0.999352      0.999266      0.999174   \n",
      "CK_mgL_1.222      0.999513      0.999438      0.999357      0.999272   \n",
      "CK_mgL_1.223      0.999587      0.999517      0.999443      0.999363   \n",
      "CK_mgL_1.224      0.999654      0.999591      0.999521      0.999447   \n",
      "CK_mgL_1.225      0.999716      0.999657      0.999594      0.999525   \n",
      "CK_mgL_1.226      0.999771      0.999718      0.999660      0.999597   \n",
      "CK_mgL_1.227      0.999820      0.999773      0.999720      0.999663   \n",
      "CK_mgL_1.228      0.999862      0.999821      0.999774      0.999723   \n",
      "CK_mgL_1.229      0.999899      0.999864      0.999822      0.999776   \n",
      "CK_mgL_1.230      0.999930      0.999900      0.999865      0.999824   \n",
      "CK_mgL_1.231      0.999956      0.999931      0.999901      0.999866   \n",
      "CK_mgL_1.232      0.999975      0.999956      0.999931      0.999902   \n",
      "CK_mgL_1.233      0.999989      0.999975      0.999956      0.999932   \n",
      "CK_mgL_1.234      0.999997      0.999989      0.999976      0.999957   \n",
      "CK_mgL_1.235      1.000000      0.999997      0.999989      0.999976   \n",
      "CK_mgL_1.236      0.999997      1.000000      0.999997      0.999989   \n",
      "CK_mgL_1.237      0.999989      0.999997      1.000000      0.999997   \n",
      "CK_mgL_1.238      0.999976      0.999989      0.999997      1.000000   \n",
      "CK_mgL_1.239      0.999957      0.999976      0.999989      0.999997   \n",
      "CK_mgL_1.240      0.999933      0.999957      0.999976      0.999989   \n",
      "CK_mgL_1.241      0.999904      0.999934      0.999958      0.999976   \n",
      "\n",
      "              CK_mgL_1.239  CK_mgL_1.240  CK_mgL_1.241  \n",
      "Iter             -0.012147     -0.012207     -0.012267  \n",
      "VKC               0.485865      0.486296      0.486717  \n",
      "CLC              -0.706320     -0.705673     -0.705026  \n",
      "k1               -0.408717     -0.408260     -0.407807  \n",
      "CBL_mgL_1.1            NaN           NaN           NaN  \n",
      "CBL_mgL_1.2       0.345661      0.345180      0.344703  \n",
      "CBL_mgL_1.3       0.271310      0.270807      0.270310  \n",
      "CBL_mgL_1.4       0.191390      0.190871      0.190359  \n",
      "CBL_mgL_1.5       0.114190      0.113660      0.113139  \n",
      "CBL_mgL_1.6       0.044667      0.044132      0.043605  \n",
      "CBL_mgL_1.7      -0.014893     -0.015432     -0.015962  \n",
      "CBL_mgL_1.8      -0.064015     -0.064557     -0.065090  \n",
      "CBL_mgL_1.9      -0.103316     -0.103862     -0.104399  \n",
      "CBL_mgL_1.10     -0.133920     -0.134471     -0.135013  \n",
      "CBL_mgL_1.11     -0.157081     -0.157639     -0.158188  \n",
      "CBL_mgL_1.12     -0.173985     -0.174552     -0.175109  \n",
      "CBL_mgL_1.13     -0.185663     -0.186241     -0.186809  \n",
      "CBL_mgL_1.14     -0.192981     -0.193571     -0.194151  \n",
      "CBL_mgL_1.15     -0.196646     -0.197250     -0.197844  \n",
      "CBL_mgL_1.16     -0.197234     -0.197853     -0.198462  \n",
      "CBL_mgL_1.17     -0.195211     -0.195847     -0.196472  \n",
      "CBL_mgL_1.18     -0.190960     -0.191613     -0.192256  \n",
      "CBL_mgL_1.19     -0.184791     -0.185463     -0.186124  \n",
      "CBL_mgL_1.20     -0.176964     -0.177655     -0.178335  \n",
      "CBL_mgL_1.21     -0.167692     -0.168403     -0.169104  \n",
      "CBL_mgL_1.22     -0.157158     -0.157889     -0.158610  \n",
      "CBL_mgL_1.23     -0.145514     -0.146266     -0.147007  \n",
      "CBL_mgL_1.24     -0.132891     -0.133664     -0.134426  \n",
      "CBL_mgL_1.25     -0.119403     -0.120197     -0.120980  \n",
      "CBL_mgL_1.26     -0.105147     -0.105962     -0.106766  \n",
      "...                    ...           ...           ...  \n",
      "CK_mgL_1.212      0.997843      0.997690      0.997533  \n",
      "CK_mgL_1.213      0.998009      0.997862      0.997710  \n",
      "CK_mgL_1.214      0.998167      0.998026      0.997880  \n",
      "CK_mgL_1.215      0.998318      0.998183      0.998043  \n",
      "CK_mgL_1.216      0.998462      0.998333      0.998198  \n",
      "CK_mgL_1.217      0.998599      0.998475      0.998347  \n",
      "CK_mgL_1.218      0.998729      0.998611      0.998488  \n",
      "CK_mgL_1.219      0.998852      0.998740      0.998623  \n",
      "CK_mgL_1.220      0.998969      0.998862      0.998750  \n",
      "CK_mgL_1.221      0.999078      0.998977      0.998871  \n",
      "CK_mgL_1.222      0.999181      0.999086      0.998986  \n",
      "CK_mgL_1.223      0.999278      0.999188      0.999093  \n",
      "CK_mgL_1.224      0.999368      0.999284      0.999195  \n",
      "CK_mgL_1.225      0.999452      0.999373      0.999290  \n",
      "CK_mgL_1.226      0.999529      0.999456      0.999378  \n",
      "CK_mgL_1.227      0.999601      0.999533      0.999461  \n",
      "CK_mgL_1.228      0.999666      0.999604      0.999537  \n",
      "CK_mgL_1.229      0.999725      0.999668      0.999607  \n",
      "CK_mgL_1.230      0.999778      0.999727      0.999671  \n",
      "CK_mgL_1.231      0.999825      0.999780      0.999729  \n",
      "CK_mgL_1.232      0.999867      0.999827      0.999782  \n",
      "CK_mgL_1.233      0.999903      0.999868      0.999828  \n",
      "CK_mgL_1.234      0.999933      0.999903      0.999869  \n",
      "CK_mgL_1.235      0.999957      0.999933      0.999904  \n",
      "CK_mgL_1.236      0.999976      0.999957      0.999934  \n",
      "CK_mgL_1.237      0.999989      0.999976      0.999958  \n",
      "CK_mgL_1.238      0.999997      0.999989      0.999976  \n",
      "CK_mgL_1.239      1.000000      0.999997      0.999990  \n",
      "CK_mgL_1.240      0.999997      1.000000      0.999997  \n",
      "CK_mgL_1.241      0.999990      0.999997      1.000000  \n",
      "\n",
      "[486 rows x 486 columns]\n"
     ]
    }
   ],
   "source": [
    "pearson = df.corr('pearson')\n",
    "print(pearson)"
   ]
  },
  {
   "cell_type": "code",
   "execution_count": 24,
   "metadata": {
    "collapsed": false
   },
   "outputs": [
    {
     "name": "stdout",
     "output_type": "stream",
     "text": [
      "Index(['Iter', 'VKC', 'CLC', 'k1', 'CBL_mgL_1.1'], dtype='object')\n"
     ]
    }
   ],
   "source": [
    "print(pearson.columns[:5])"
   ]
  },
  {
   "cell_type": "code",
   "execution_count": null,
   "metadata": {
    "collapsed": false
   },
   "outputs": [],
   "source": [
    "plt.plot(time, pearson.ix['VKC','CK_mgL_1.1':'CK_mgL_1.241'], label='VKC')\n",
    "plt.plot(time, pearson.ix['CLC','CK_mgL_1.1':'CK_mgL_1.241'], label='CLC')\n",
    "plt.plot(time, pearson.ix['k1','CK_mgL_1.1':'CK_mgL_1.241'], label='k1')\n",
    "plt.legend(loc='best')"
   ]
  },
  {
   "cell_type": "code",
   "execution_count": null,
   "metadata": {
    "collapsed": true
   },
   "outputs": [],
   "source": []
  }
 ],
 "metadata": {
  "kernelspec": {
   "display_name": "Python 3",
   "language": "python",
   "name": "python3"
  },
  "language_info": {
   "codemirror_mode": {
    "name": "ipython",
    "version": 3
   },
   "file_extension": ".py",
   "mimetype": "text/x-python",
   "name": "python",
   "nbconvert_exporter": "python",
   "pygments_lexer": "ipython3",
   "version": "3.5.1"
  }
 },
 "nbformat": 4,
 "nbformat_minor": 0
}
